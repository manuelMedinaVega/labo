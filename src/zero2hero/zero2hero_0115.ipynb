{
 "cells": [
  {
   "cell_type": "markdown",
   "metadata": {},
   "source": [
    "# Zero to Hero"
   ]
  },
  {
   "cell_type": "markdown",
   "metadata": {},
   "source": [
    "## 1.15 Montecarlo Estimation, Arbol\n",
    "## En una funcion"
   ]
  },
  {
   "cell_type": "markdown",
   "metadata": {},
   "source": [
    "El objetivo es implementar con un for loop la estimacion montecarlo, que promedia las ganancias"
   ]
  },
  {
   "cell_type": "code",
   "execution_count": 7,
   "metadata": {},
   "outputs": [
    {
     "data": {
      "text/html": [
       "<table class=\"dataframe\">\n",
       "<caption>A matrix: 2 × 6 of type dbl</caption>\n",
       "<thead>\n",
       "\t<tr><th></th><th scope=col>used</th><th scope=col>(Mb)</th><th scope=col>gc trigger</th><th scope=col>(Mb)</th><th scope=col>max used</th><th scope=col>(Mb)</th></tr>\n",
       "</thead>\n",
       "<tbody>\n",
       "\t<tr><th scope=row>Ncells</th><td>2298051</td><td>122.8</td><td> 4550071</td><td>243.1</td><td> 2837767</td><td>151.6</td></tr>\n",
       "\t<tr><th scope=row>Vcells</th><td>3907308</td><td> 29.9</td><td>57684988</td><td>440.2</td><td>72005787</td><td>549.4</td></tr>\n",
       "</tbody>\n",
       "</table>\n"
      ],
      "text/latex": [
       "A matrix: 2 × 6 of type dbl\n",
       "\\begin{tabular}{r|llllll}\n",
       "  & used & (Mb) & gc trigger & (Mb) & max used & (Mb)\\\\\n",
       "\\hline\n",
       "\tNcells & 2298051 & 122.8 &  4550071 & 243.1 &  2837767 & 151.6\\\\\n",
       "\tVcells & 3907308 &  29.9 & 57684988 & 440.2 & 72005787 & 549.4\\\\\n",
       "\\end{tabular}\n"
      ],
      "text/markdown": [
       "\n",
       "A matrix: 2 × 6 of type dbl\n",
       "\n",
       "| <!--/--> | used | (Mb) | gc trigger | (Mb) | max used | (Mb) |\n",
       "|---|---|---|---|---|---|---|\n",
       "| Ncells | 2298051 | 122.8 |  4550071 | 243.1 |  2837767 | 151.6 |\n",
       "| Vcells | 3907308 |  29.9 | 57684988 | 440.2 | 72005787 | 549.4 |\n",
       "\n"
      ],
      "text/plain": [
       "       used    (Mb)  gc trigger (Mb)  max used (Mb) \n",
       "Ncells 2298051 122.8  4550071   243.1  2837767 151.6\n",
       "Vcells 3907308  29.9 57684988   440.2 72005787 549.4"
      ]
     },
     "metadata": {},
     "output_type": "display_data"
    }
   ],
   "source": [
    "rm( list=ls())\n",
    "gc()\n",
    "\n",
    "library(\"data.table\")   #cargo la libreria  data.table\n",
    "library(\"rpart\")  #cargo la libreria  rpart\n",
    "library(\"rpart.plot\")\n",
    "library(\"caret\")\n",
    "\n",
    "options(repr.plot.width=20, repr.plot.height=10) \n",
    "setwd(\"/home/tomas/workspace/uba/dmeyf\")  #Aqui se debe poner la ruta de la PC local"
   ]
  },
  {
   "cell_type": "markdown",
   "metadata": {},
   "source": [
    "La funcion que definimos en el notebook anterior"
   ]
  },
  {
   "cell_type": "code",
   "execution_count": 8,
   "metadata": {},
   "outputs": [],
   "source": [
    "GananciaArbol  <-  function( semilla, data, x, train=0.70) {\n",
    "  #establezco la semilla\n",
    "  set.seed(semilla)\n",
    "  train_rows <- createDataPartition(dataset$clase_ternaria, p= 0.70,list= FALSE)\n",
    "  \n",
    "  modelo <-  rpart::rpart(formula= \"clase_ternaria ~ .\" ,\n",
    "                          data= data[ train_rows],  #los datos de training\n",
    "                          xval= 0,\n",
    "                          control= x)\n",
    "    \n",
    "  #Aplico el modelo a los datos de testing  \n",
    "  prediccion  <- predict( modelo, data[ -train_rows], type = \"prob\")\n",
    "  \n",
    "  prob_baja2  <- prediccion[, \"BAJA+2\"]\n",
    "  ganancia_testing <- data[ -train_rows, sum(  (prob_baja2> 0.025) * ifelse( clase_ternaria==\"BAJA+2\", 78000, -2000) )]\n",
    "  \n",
    "  #normalizo la ganancia\n",
    "  ganancia_testing_normalizada  <- ganancia_testing/0.3  \n",
    "\n",
    "  return( ganancia_testing_normalizada )\n",
    "\n",
    "}"
   ]
  },
  {
   "cell_type": "code",
   "execution_count": 9,
   "metadata": {},
   "outputs": [],
   "source": [
    "ArbolMontecarlo <- function( semillas, data, x, train=0.70)\n",
    "{\n",
    "  vector_ganancias <- c()  #vector donde voy a ir acumulando las ganancias\n",
    "  for( semilla in ksemillas)\n",
    "  {\n",
    "    ganancia  <- GananciaArbol( semilla, dataset, x=x, train=0.70 )\n",
    "    vector_ganancias  <-  c( vector_ganancias, ganancia)\n",
    "  }\n",
    "    \n",
    "  return( mean( vector_ganancias))\n",
    "}"
   ]
  },
  {
   "cell_type": "code",
   "execution_count": 10,
   "metadata": {},
   "outputs": [],
   "source": [
    "dataset <- fread(\"./datasets/competencia1_2022.csv\")   #cargo el dataset #cargo el dataset\n",
    "dataset <- dataset[ foto_mes==202101 ]  # me quedo solo con el periodo 202101"
   ]
  },
  {
   "cell_type": "code",
   "execution_count": 14,
   "metadata": {},
   "outputs": [],
   "source": [
    "#ksemillas  <- c(102191, 200177, 410551, 552581, 892237) #reemplazar por las propias semillas\n",
    "ksemillas  <- c(697157, 585799, 906007, 748301, 372871)semillas  <- c(697157, 585799, 906007, 748301, 372871)semillas  <- c(697157, 585799, 906007, 748301, 372871)"
   ]
  },
  {
   "cell_type": "code",
   "execution_count": 15,
   "metadata": {},
   "outputs": [],
   "source": [
    "#defino el primer set de hiperparametros\n",
    "param1  <- list(\"cp\"= -0.5,\n",
    "                \"minsplit\"=  900,\n",
    "                \"minbucket\"= 440,\n",
    "                \"maxdepth\"= 5 )"
   ]
  },
  {
   "cell_type": "markdown",
   "metadata": {},
   "source": [
    "llamo a la fucion  ArbolMontecarlo con las 5 semillas de ksemillas"
   ]
  },
  {
   "cell_type": "code",
   "execution_count": 16,
   "metadata": {},
   "outputs": [],
   "source": [
    "ganancia_montecarlo1  <- ArbolMontecarlo( ksemillas, dataset, x= param1, train= 0.70 )"
   ]
  },
  {
   "cell_type": "code",
   "execution_count": 17,
   "metadata": {},
   "outputs": [],
   "source": [
    "#el SEGUNDO set de hiperparametros\n",
    "param2  <- list(\"cp\"= -0.5,\n",
    "                \"minsplit\"=  1340,\n",
    "                \"minbucket\"=  600,\n",
    "                \"maxdepth\"= 6 )"
   ]
  },
  {
   "cell_type": "code",
   "execution_count": 18,
   "metadata": {},
   "outputs": [],
   "source": [
    "ganancia_montecarlo2  <- ArbolMontecarlo( ksemillas, dataset, x= param2, train= 0.70 )"
   ]
  },
  {
   "cell_type": "code",
   "execution_count": 19,
   "metadata": {},
   "outputs": [
    {
     "data": {
      "text/html": [
       "20365333.3333333"
      ],
      "text/latex": [
       "20365333.3333333"
      ],
      "text/markdown": [
       "20365333.3333333"
      ],
      "text/plain": [
       "[1] 20365333"
      ]
     },
     "metadata": {},
     "output_type": "display_data"
    },
    {
     "data": {
      "text/html": [
       "20492000"
      ],
      "text/latex": [
       "20492000"
      ],
      "text/markdown": [
       "20492000"
      ],
      "text/plain": [
       "[1] 20492000"
      ]
     },
     "metadata": {},
     "output_type": "display_data"
    }
   ],
   "source": [
    "ganancia_montecarlo1\n",
    "ganancia_montecarlo2"
   ]
  },
  {
   "cell_type": "markdown",
   "metadata": {},
   "source": [
    "Segun este experimento, el primer juego de hiperparametros es mejor que el primero\n",
    "<br>\n",
    "¿Se cumplirá esto subiendo a Kaggle?\n",
    "<br>\n",
    "¿Qué sucede si en Kaggle funciona bastante mejor el segundo set de hiperparámetros?"
   ]
  }
 ],
 "metadata": {
  "kernelspec": {
   "display_name": "R",
   "language": "R",
   "name": "ir"
  },
  "language_info": {
   "codemirror_mode": "r",
   "file_extension": ".r",
   "mimetype": "text/x-r-source",
   "name": "R",
   "pygments_lexer": "r",
   "version": "4.2.1"
  }
 },
 "nbformat": 4,
 "nbformat_minor": 4
}
