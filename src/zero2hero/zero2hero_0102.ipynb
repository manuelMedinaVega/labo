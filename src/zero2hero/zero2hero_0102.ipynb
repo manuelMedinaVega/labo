{
 "cells": [
  {
   "cell_type": "markdown",
   "metadata": {},
   "source": [
    "# Zero to Hero"
   ]
  },
  {
   "cell_type": "markdown",
   "metadata": {},
   "source": [
    "## 1.02  Carga del dataset desde la nube y operaciones básicas"
   ]
  },
  {
   "cell_type": "markdown",
   "metadata": {},
   "source": [
    "Se muestra una alternativa a cargar el dataset directamente desde la nube, que funciona desde Kaggle, Google Colab\n",
    "<br>\n",
    "Si se está corriendo desde la PC local, siempre es preferible cargar el archivo del disco local."
   ]
  },
  {
   "cell_type": "code",
   "execution_count": 1,
   "metadata": {},
   "outputs": [],
   "source": [
    "library( \"data.table\")   #cargo la libreria  data.table"
   ]
  },
  {
   "cell_type": "markdown",
   "metadata": {},
   "source": [
    "\"https://storage.googleapis.com/dmeyf2022/competencia1_2022.csv\" es el dataset de la Primera Competencia de la asignatura"
   ]
  },
  {
   "cell_type": "code",
   "execution_count": 2,
   "metadata": {},
   "outputs": [],
   "source": [
    "dataset <- fread( \"https://storage.googleapis.com/dmeyf2022/competencia1_2022.csv\")"
   ]
  },
  {
   "cell_type": "markdown",
   "metadata": {},
   "source": [
    "Obviamente ahora el leer el archivo demora bastante, ya que se está bajando por internet, están viajando 156MB"
   ]
  },
  {
   "cell_type": "markdown",
   "metadata": {},
   "source": [
    "### Ahora, algunas operaciones básicas con el dataset"
   ]
  },
  {
   "cell_type": "markdown",
   "metadata": {},
   "source": [
    "cantidad de registros y columnas"
   ]
  },
  {
   "cell_type": "code",
   "execution_count": 3,
   "metadata": {},
   "outputs": [
    {
     "data": {
      "text/html": [
       "324242"
      ],
      "text/latex": [
       "324242"
      ],
      "text/markdown": [
       "324242"
      ],
      "text/plain": [
       "[1] 324242"
      ]
     },
     "metadata": {},
     "output_type": "display_data"
    },
    {
     "data": {
      "text/html": [
       "155"
      ],
      "text/latex": [
       "155"
      ],
      "text/markdown": [
       "155"
      ],
      "text/plain": [
       "[1] 155"
      ]
     },
     "metadata": {},
     "output_type": "display_data"
    }
   ],
   "source": [
    "nrow( dataset )\n",
    "ncol( dataset )"
   ]
  },
  {
   "cell_type": "markdown",
   "metadata": {},
   "source": [
    "Otra forma de ver la cantidad de registros del dataset, al  *estilo data table*\n",
    "<br>\n",
    "El .N  es la cantidad de registros y va en la segunda poscion  dataset[ 1, 2, 3 ]"
   ]
  },
  {
   "cell_type": "code",
   "execution_count": 4,
   "metadata": {},
   "outputs": [
    {
     "data": {
      "text/html": [
       "324242"
      ],
      "text/latex": [
       "324242"
      ],
      "text/markdown": [
       "324242"
      ],
      "text/plain": [
       "[1] 324242"
      ]
     },
     "metadata": {},
     "output_type": "display_data"
    }
   ],
   "source": [
    "dataset[ , .N ]"
   ]
  },
  {
   "cell_type": "markdown",
   "metadata": {},
   "source": [
    "Ahora hacemos la apertura por el periodo, el campo  foto_mes"
   ]
  },
  {
   "cell_type": "code",
   "execution_count": 5,
   "metadata": {},
   "outputs": [
    {
     "data": {
      "text/html": [
       "<table class=\"dataframe\">\n",
       "<caption>A data.table: 2 × 2</caption>\n",
       "<thead>\n",
       "\t<tr><th scope=col>foto_mes</th><th scope=col>N</th></tr>\n",
       "\t<tr><th scope=col>&lt;int&gt;</th><th scope=col>&lt;int&gt;</th></tr>\n",
       "</thead>\n",
       "<tbody>\n",
       "\t<tr><td>202101</td><td>161342</td></tr>\n",
       "\t<tr><td>202103</td><td>162900</td></tr>\n",
       "</tbody>\n",
       "</table>\n"
      ],
      "text/latex": [
       "A data.table: 2 × 2\n",
       "\\begin{tabular}{ll}\n",
       " foto\\_mes & N\\\\\n",
       " <int> & <int>\\\\\n",
       "\\hline\n",
       "\t 202101 & 161342\\\\\n",
       "\t 202103 & 162900\\\\\n",
       "\\end{tabular}\n"
      ],
      "text/markdown": [
       "\n",
       "A data.table: 2 × 2\n",
       "\n",
       "| foto_mes &lt;int&gt; | N &lt;int&gt; |\n",
       "|---|---|\n",
       "| 202101 | 161342 |\n",
       "| 202103 | 162900 |\n",
       "\n"
      ],
      "text/plain": [
       "  foto_mes N     \n",
       "1 202101   161342\n",
       "2 202103   162900"
      ]
     },
     "metadata": {},
     "output_type": "display_data"
    }
   ],
   "source": [
    "dataset[ , .N, foto_mes ]"
   ]
  },
  {
   "cell_type": "markdown",
   "metadata": {},
   "source": [
    "nombre de las columnas del dataset"
   ]
  },
  {
   "cell_type": "code",
   "execution_count": 12,
   "metadata": {
    "tags": []
   },
   "outputs": [
    {
     "data": {
      "text/html": [
       "<style>\n",
       ".list-inline {list-style: none; margin:0; padding: 0}\n",
       ".list-inline>li {display: inline-block}\n",
       ".list-inline>li:not(:last-child)::after {content: \"\\00b7\"; padding: 0 .5ex}\n",
       "</style>\n",
       "<ol class=list-inline><li>202101</li><li>202101</li><li>202101</li><li>202101</li><li>202101</li></ol>\n"
      ],
      "text/latex": [
       "\\begin{enumerate*}\n",
       "\\item 202101\n",
       "\\item 202101\n",
       "\\item 202101\n",
       "\\item 202101\n",
       "\\item 202101\n",
       "\\end{enumerate*}\n"
      ],
      "text/markdown": [
       "1. 202101\n",
       "2. 202101\n",
       "3. 202101\n",
       "4. 202101\n",
       "5. 202101\n",
       "\n",
       "\n"
      ],
      "text/plain": [
       "[1] 202101 202101 202101 202101 202101"
      ]
     },
     "metadata": {},
     "output_type": "display_data"
    }
   ],
   "source": [
    "dataset[1:5,foto_mes] # muestra las primeros 5 filas de la col foto_mes"
   ]
  },
  {
   "cell_type": "code",
   "execution_count": 6,
   "metadata": {},
   "outputs": [
    {
     "data": {
      "text/html": [
       "<style>\n",
       ".list-inline {list-style: none; margin:0; padding: 0}\n",
       ".list-inline>li {display: inline-block}\n",
       ".list-inline>li:not(:last-child)::after {content: \"\\00b7\"; padding: 0 .5ex}\n",
       "</style>\n",
       "<ol class=list-inline><li>'numero_de_cliente'</li><li>'foto_mes'</li><li>'active_quarter'</li><li>'cliente_vip'</li><li>'internet'</li><li>'cliente_edad'</li><li>'cliente_antiguedad'</li><li>'mrentabilidad'</li><li>'mrentabilidad_annual'</li><li>'mcomisiones'</li><li>'mactivos_margen'</li><li>'mpasivos_margen'</li><li>'cproductos'</li><li>'tcuentas'</li><li>'ccuenta_corriente'</li><li>'mcuenta_corriente_adicional'</li><li>'mcuenta_corriente'</li><li>'ccaja_ahorro'</li><li>'mcaja_ahorro'</li><li>'mcaja_ahorro_adicional'</li><li>'mcaja_ahorro_dolares'</li><li>'cdescubierto_preacordado'</li><li>'mcuentas_saldo'</li><li>'ctarjeta_debito'</li><li>'ctarjeta_debito_transacciones'</li><li>'mautoservicio'</li><li>'ctarjeta_visa'</li><li>'ctarjeta_visa_transacciones'</li><li>'mtarjeta_visa_consumo'</li><li>'ctarjeta_master'</li><li>'ctarjeta_master_transacciones'</li><li>'mtarjeta_master_consumo'</li><li>'cprestamos_personales'</li><li>'mprestamos_personales'</li><li>'cprestamos_prendarios'</li><li>'mprestamos_prendarios'</li><li>'cprestamos_hipotecarios'</li><li>'mprestamos_hipotecarios'</li><li>'cplazo_fijo'</li><li>'mplazo_fijo_dolares'</li><li>'mplazo_fijo_pesos'</li><li>'cinversion1'</li><li>'minversion1_pesos'</li><li>'minversion1_dolares'</li><li>'cinversion2'</li><li>'minversion2'</li><li>'cseguro_vida'</li><li>'cseguro_auto'</li><li>'cseguro_vivienda'</li><li>'cseguro_accidentes_personales'</li><li>'ccaja_seguridad'</li><li>'cpayroll_trx'</li><li>'mpayroll'</li><li>'mpayroll2'</li><li>'cpayroll2_trx'</li><li>'ccuenta_debitos_automaticos'</li><li>'mcuenta_debitos_automaticos'</li><li>'ctarjeta_visa_debitos_automaticos'</li><li>'mttarjeta_visa_debitos_automaticos'</li><li>'ctarjeta_master_debitos_automaticos'</li><li>'mttarjeta_master_debitos_automaticos'</li><li>'cpagodeservicios'</li><li>'mpagodeservicios'</li><li>'cpagomiscuentas'</li><li>'mpagomiscuentas'</li><li>'ccajeros_propios_descuentos'</li><li>'mcajeros_propios_descuentos'</li><li>'ctarjeta_visa_descuentos'</li><li>'mtarjeta_visa_descuentos'</li><li>'ctarjeta_master_descuentos'</li><li>'mtarjeta_master_descuentos'</li><li>'ccomisiones_mantenimiento'</li><li>'mcomisiones_mantenimiento'</li><li>'ccomisiones_otras'</li><li>'mcomisiones_otras'</li><li>'cforex'</li><li>'cforex_buy'</li><li>'mforex_buy'</li><li>'cforex_sell'</li><li>'mforex_sell'</li><li>'ctransferencias_recibidas'</li><li>'mtransferencias_recibidas'</li><li>'ctransferencias_emitidas'</li><li>'mtransferencias_emitidas'</li><li>'cextraccion_autoservicio'</li><li>'mextraccion_autoservicio'</li><li>'ccheques_depositados'</li><li>'mcheques_depositados'</li><li>'ccheques_emitidos'</li><li>'mcheques_emitidos'</li><li>'ccheques_depositados_rechazados'</li><li>'mcheques_depositados_rechazados'</li><li>'ccheques_emitidos_rechazados'</li><li>'mcheques_emitidos_rechazados'</li><li>'tcallcenter'</li><li>'ccallcenter_transacciones'</li><li>'thomebanking'</li><li>'chomebanking_transacciones'</li><li>'ccajas_transacciones'</li><li>'ccajas_consultas'</li><li>'ccajas_depositos'</li><li>'ccajas_extracciones'</li><li>'ccajas_otras'</li><li>'catm_trx'</li><li>'matm'</li><li>'catm_trx_other'</li><li>'matm_other'</li><li>'ctrx_quarter'</li><li>'tmobile_app'</li><li>'cmobile_app_trx'</li><li>'Master_delinquency'</li><li>'Master_status'</li><li>'Master_mfinanciacion_limite'</li><li>'Master_Fvencimiento'</li><li>'Master_Finiciomora'</li><li>'Master_msaldototal'</li><li>'Master_msaldopesos'</li><li>'Master_msaldodolares'</li><li>'Master_mconsumospesos'</li><li>'Master_mconsumosdolares'</li><li>'Master_mlimitecompra'</li><li>'Master_madelantopesos'</li><li>'Master_madelantodolares'</li><li>'Master_fultimo_cierre'</li><li>'Master_mpagado'</li><li>'Master_mpagospesos'</li><li>'Master_mpagosdolares'</li><li>'Master_fechaalta'</li><li>'Master_mconsumototal'</li><li>'Master_cconsumos'</li><li>'Master_cadelantosefectivo'</li><li>'Master_mpagominimo'</li><li>'Visa_delinquency'</li><li>'Visa_status'</li><li>'Visa_mfinanciacion_limite'</li><li>'Visa_Fvencimiento'</li><li>'Visa_Finiciomora'</li><li>'Visa_msaldototal'</li><li>'Visa_msaldopesos'</li><li>'Visa_msaldodolares'</li><li>'Visa_mconsumospesos'</li><li>'Visa_mconsumosdolares'</li><li>'Visa_mlimitecompra'</li><li>'Visa_madelantopesos'</li><li>'Visa_madelantodolares'</li><li>'Visa_fultimo_cierre'</li><li>'Visa_mpagado'</li><li>'Visa_mpagospesos'</li><li>'Visa_mpagosdolares'</li><li>'Visa_fechaalta'</li><li>'Visa_mconsumototal'</li><li>'Visa_cconsumos'</li><li>'Visa_cadelantosefectivo'</li><li>'Visa_mpagominimo'</li><li>'clase_ternaria'</li></ol>\n"
      ],
      "text/latex": [
       "\\begin{enumerate*}\n",
       "\\item 'numero\\_de\\_cliente'\n",
       "\\item 'foto\\_mes'\n",
       "\\item 'active\\_quarter'\n",
       "\\item 'cliente\\_vip'\n",
       "\\item 'internet'\n",
       "\\item 'cliente\\_edad'\n",
       "\\item 'cliente\\_antiguedad'\n",
       "\\item 'mrentabilidad'\n",
       "\\item 'mrentabilidad\\_annual'\n",
       "\\item 'mcomisiones'\n",
       "\\item 'mactivos\\_margen'\n",
       "\\item 'mpasivos\\_margen'\n",
       "\\item 'cproductos'\n",
       "\\item 'tcuentas'\n",
       "\\item 'ccuenta\\_corriente'\n",
       "\\item 'mcuenta\\_corriente\\_adicional'\n",
       "\\item 'mcuenta\\_corriente'\n",
       "\\item 'ccaja\\_ahorro'\n",
       "\\item 'mcaja\\_ahorro'\n",
       "\\item 'mcaja\\_ahorro\\_adicional'\n",
       "\\item 'mcaja\\_ahorro\\_dolares'\n",
       "\\item 'cdescubierto\\_preacordado'\n",
       "\\item 'mcuentas\\_saldo'\n",
       "\\item 'ctarjeta\\_debito'\n",
       "\\item 'ctarjeta\\_debito\\_transacciones'\n",
       "\\item 'mautoservicio'\n",
       "\\item 'ctarjeta\\_visa'\n",
       "\\item 'ctarjeta\\_visa\\_transacciones'\n",
       "\\item 'mtarjeta\\_visa\\_consumo'\n",
       "\\item 'ctarjeta\\_master'\n",
       "\\item 'ctarjeta\\_master\\_transacciones'\n",
       "\\item 'mtarjeta\\_master\\_consumo'\n",
       "\\item 'cprestamos\\_personales'\n",
       "\\item 'mprestamos\\_personales'\n",
       "\\item 'cprestamos\\_prendarios'\n",
       "\\item 'mprestamos\\_prendarios'\n",
       "\\item 'cprestamos\\_hipotecarios'\n",
       "\\item 'mprestamos\\_hipotecarios'\n",
       "\\item 'cplazo\\_fijo'\n",
       "\\item 'mplazo\\_fijo\\_dolares'\n",
       "\\item 'mplazo\\_fijo\\_pesos'\n",
       "\\item 'cinversion1'\n",
       "\\item 'minversion1\\_pesos'\n",
       "\\item 'minversion1\\_dolares'\n",
       "\\item 'cinversion2'\n",
       "\\item 'minversion2'\n",
       "\\item 'cseguro\\_vida'\n",
       "\\item 'cseguro\\_auto'\n",
       "\\item 'cseguro\\_vivienda'\n",
       "\\item 'cseguro\\_accidentes\\_personales'\n",
       "\\item 'ccaja\\_seguridad'\n",
       "\\item 'cpayroll\\_trx'\n",
       "\\item 'mpayroll'\n",
       "\\item 'mpayroll2'\n",
       "\\item 'cpayroll2\\_trx'\n",
       "\\item 'ccuenta\\_debitos\\_automaticos'\n",
       "\\item 'mcuenta\\_debitos\\_automaticos'\n",
       "\\item 'ctarjeta\\_visa\\_debitos\\_automaticos'\n",
       "\\item 'mttarjeta\\_visa\\_debitos\\_automaticos'\n",
       "\\item 'ctarjeta\\_master\\_debitos\\_automaticos'\n",
       "\\item 'mttarjeta\\_master\\_debitos\\_automaticos'\n",
       "\\item 'cpagodeservicios'\n",
       "\\item 'mpagodeservicios'\n",
       "\\item 'cpagomiscuentas'\n",
       "\\item 'mpagomiscuentas'\n",
       "\\item 'ccajeros\\_propios\\_descuentos'\n",
       "\\item 'mcajeros\\_propios\\_descuentos'\n",
       "\\item 'ctarjeta\\_visa\\_descuentos'\n",
       "\\item 'mtarjeta\\_visa\\_descuentos'\n",
       "\\item 'ctarjeta\\_master\\_descuentos'\n",
       "\\item 'mtarjeta\\_master\\_descuentos'\n",
       "\\item 'ccomisiones\\_mantenimiento'\n",
       "\\item 'mcomisiones\\_mantenimiento'\n",
       "\\item 'ccomisiones\\_otras'\n",
       "\\item 'mcomisiones\\_otras'\n",
       "\\item 'cforex'\n",
       "\\item 'cforex\\_buy'\n",
       "\\item 'mforex\\_buy'\n",
       "\\item 'cforex\\_sell'\n",
       "\\item 'mforex\\_sell'\n",
       "\\item 'ctransferencias\\_recibidas'\n",
       "\\item 'mtransferencias\\_recibidas'\n",
       "\\item 'ctransferencias\\_emitidas'\n",
       "\\item 'mtransferencias\\_emitidas'\n",
       "\\item 'cextraccion\\_autoservicio'\n",
       "\\item 'mextraccion\\_autoservicio'\n",
       "\\item 'ccheques\\_depositados'\n",
       "\\item 'mcheques\\_depositados'\n",
       "\\item 'ccheques\\_emitidos'\n",
       "\\item 'mcheques\\_emitidos'\n",
       "\\item 'ccheques\\_depositados\\_rechazados'\n",
       "\\item 'mcheques\\_depositados\\_rechazados'\n",
       "\\item 'ccheques\\_emitidos\\_rechazados'\n",
       "\\item 'mcheques\\_emitidos\\_rechazados'\n",
       "\\item 'tcallcenter'\n",
       "\\item 'ccallcenter\\_transacciones'\n",
       "\\item 'thomebanking'\n",
       "\\item 'chomebanking\\_transacciones'\n",
       "\\item 'ccajas\\_transacciones'\n",
       "\\item 'ccajas\\_consultas'\n",
       "\\item 'ccajas\\_depositos'\n",
       "\\item 'ccajas\\_extracciones'\n",
       "\\item 'ccajas\\_otras'\n",
       "\\item 'catm\\_trx'\n",
       "\\item 'matm'\n",
       "\\item 'catm\\_trx\\_other'\n",
       "\\item 'matm\\_other'\n",
       "\\item 'ctrx\\_quarter'\n",
       "\\item 'tmobile\\_app'\n",
       "\\item 'cmobile\\_app\\_trx'\n",
       "\\item 'Master\\_delinquency'\n",
       "\\item 'Master\\_status'\n",
       "\\item 'Master\\_mfinanciacion\\_limite'\n",
       "\\item 'Master\\_Fvencimiento'\n",
       "\\item 'Master\\_Finiciomora'\n",
       "\\item 'Master\\_msaldototal'\n",
       "\\item 'Master\\_msaldopesos'\n",
       "\\item 'Master\\_msaldodolares'\n",
       "\\item 'Master\\_mconsumospesos'\n",
       "\\item 'Master\\_mconsumosdolares'\n",
       "\\item 'Master\\_mlimitecompra'\n",
       "\\item 'Master\\_madelantopesos'\n",
       "\\item 'Master\\_madelantodolares'\n",
       "\\item 'Master\\_fultimo\\_cierre'\n",
       "\\item 'Master\\_mpagado'\n",
       "\\item 'Master\\_mpagospesos'\n",
       "\\item 'Master\\_mpagosdolares'\n",
       "\\item 'Master\\_fechaalta'\n",
       "\\item 'Master\\_mconsumototal'\n",
       "\\item 'Master\\_cconsumos'\n",
       "\\item 'Master\\_cadelantosefectivo'\n",
       "\\item 'Master\\_mpagominimo'\n",
       "\\item 'Visa\\_delinquency'\n",
       "\\item 'Visa\\_status'\n",
       "\\item 'Visa\\_mfinanciacion\\_limite'\n",
       "\\item 'Visa\\_Fvencimiento'\n",
       "\\item 'Visa\\_Finiciomora'\n",
       "\\item 'Visa\\_msaldototal'\n",
       "\\item 'Visa\\_msaldopesos'\n",
       "\\item 'Visa\\_msaldodolares'\n",
       "\\item 'Visa\\_mconsumospesos'\n",
       "\\item 'Visa\\_mconsumosdolares'\n",
       "\\item 'Visa\\_mlimitecompra'\n",
       "\\item 'Visa\\_madelantopesos'\n",
       "\\item 'Visa\\_madelantodolares'\n",
       "\\item 'Visa\\_fultimo\\_cierre'\n",
       "\\item 'Visa\\_mpagado'\n",
       "\\item 'Visa\\_mpagospesos'\n",
       "\\item 'Visa\\_mpagosdolares'\n",
       "\\item 'Visa\\_fechaalta'\n",
       "\\item 'Visa\\_mconsumototal'\n",
       "\\item 'Visa\\_cconsumos'\n",
       "\\item 'Visa\\_cadelantosefectivo'\n",
       "\\item 'Visa\\_mpagominimo'\n",
       "\\item 'clase\\_ternaria'\n",
       "\\end{enumerate*}\n"
      ],
      "text/markdown": [
       "1. 'numero_de_cliente'\n",
       "2. 'foto_mes'\n",
       "3. 'active_quarter'\n",
       "4. 'cliente_vip'\n",
       "5. 'internet'\n",
       "6. 'cliente_edad'\n",
       "7. 'cliente_antiguedad'\n",
       "8. 'mrentabilidad'\n",
       "9. 'mrentabilidad_annual'\n",
       "10. 'mcomisiones'\n",
       "11. 'mactivos_margen'\n",
       "12. 'mpasivos_margen'\n",
       "13. 'cproductos'\n",
       "14. 'tcuentas'\n",
       "15. 'ccuenta_corriente'\n",
       "16. 'mcuenta_corriente_adicional'\n",
       "17. 'mcuenta_corriente'\n",
       "18. 'ccaja_ahorro'\n",
       "19. 'mcaja_ahorro'\n",
       "20. 'mcaja_ahorro_adicional'\n",
       "21. 'mcaja_ahorro_dolares'\n",
       "22. 'cdescubierto_preacordado'\n",
       "23. 'mcuentas_saldo'\n",
       "24. 'ctarjeta_debito'\n",
       "25. 'ctarjeta_debito_transacciones'\n",
       "26. 'mautoservicio'\n",
       "27. 'ctarjeta_visa'\n",
       "28. 'ctarjeta_visa_transacciones'\n",
       "29. 'mtarjeta_visa_consumo'\n",
       "30. 'ctarjeta_master'\n",
       "31. 'ctarjeta_master_transacciones'\n",
       "32. 'mtarjeta_master_consumo'\n",
       "33. 'cprestamos_personales'\n",
       "34. 'mprestamos_personales'\n",
       "35. 'cprestamos_prendarios'\n",
       "36. 'mprestamos_prendarios'\n",
       "37. 'cprestamos_hipotecarios'\n",
       "38. 'mprestamos_hipotecarios'\n",
       "39. 'cplazo_fijo'\n",
       "40. 'mplazo_fijo_dolares'\n",
       "41. 'mplazo_fijo_pesos'\n",
       "42. 'cinversion1'\n",
       "43. 'minversion1_pesos'\n",
       "44. 'minversion1_dolares'\n",
       "45. 'cinversion2'\n",
       "46. 'minversion2'\n",
       "47. 'cseguro_vida'\n",
       "48. 'cseguro_auto'\n",
       "49. 'cseguro_vivienda'\n",
       "50. 'cseguro_accidentes_personales'\n",
       "51. 'ccaja_seguridad'\n",
       "52. 'cpayroll_trx'\n",
       "53. 'mpayroll'\n",
       "54. 'mpayroll2'\n",
       "55. 'cpayroll2_trx'\n",
       "56. 'ccuenta_debitos_automaticos'\n",
       "57. 'mcuenta_debitos_automaticos'\n",
       "58. 'ctarjeta_visa_debitos_automaticos'\n",
       "59. 'mttarjeta_visa_debitos_automaticos'\n",
       "60. 'ctarjeta_master_debitos_automaticos'\n",
       "61. 'mttarjeta_master_debitos_automaticos'\n",
       "62. 'cpagodeservicios'\n",
       "63. 'mpagodeservicios'\n",
       "64. 'cpagomiscuentas'\n",
       "65. 'mpagomiscuentas'\n",
       "66. 'ccajeros_propios_descuentos'\n",
       "67. 'mcajeros_propios_descuentos'\n",
       "68. 'ctarjeta_visa_descuentos'\n",
       "69. 'mtarjeta_visa_descuentos'\n",
       "70. 'ctarjeta_master_descuentos'\n",
       "71. 'mtarjeta_master_descuentos'\n",
       "72. 'ccomisiones_mantenimiento'\n",
       "73. 'mcomisiones_mantenimiento'\n",
       "74. 'ccomisiones_otras'\n",
       "75. 'mcomisiones_otras'\n",
       "76. 'cforex'\n",
       "77. 'cforex_buy'\n",
       "78. 'mforex_buy'\n",
       "79. 'cforex_sell'\n",
       "80. 'mforex_sell'\n",
       "81. 'ctransferencias_recibidas'\n",
       "82. 'mtransferencias_recibidas'\n",
       "83. 'ctransferencias_emitidas'\n",
       "84. 'mtransferencias_emitidas'\n",
       "85. 'cextraccion_autoservicio'\n",
       "86. 'mextraccion_autoservicio'\n",
       "87. 'ccheques_depositados'\n",
       "88. 'mcheques_depositados'\n",
       "89. 'ccheques_emitidos'\n",
       "90. 'mcheques_emitidos'\n",
       "91. 'ccheques_depositados_rechazados'\n",
       "92. 'mcheques_depositados_rechazados'\n",
       "93. 'ccheques_emitidos_rechazados'\n",
       "94. 'mcheques_emitidos_rechazados'\n",
       "95. 'tcallcenter'\n",
       "96. 'ccallcenter_transacciones'\n",
       "97. 'thomebanking'\n",
       "98. 'chomebanking_transacciones'\n",
       "99. 'ccajas_transacciones'\n",
       "100. 'ccajas_consultas'\n",
       "101. 'ccajas_depositos'\n",
       "102. 'ccajas_extracciones'\n",
       "103. 'ccajas_otras'\n",
       "104. 'catm_trx'\n",
       "105. 'matm'\n",
       "106. 'catm_trx_other'\n",
       "107. 'matm_other'\n",
       "108. 'ctrx_quarter'\n",
       "109. 'tmobile_app'\n",
       "110. 'cmobile_app_trx'\n",
       "111. 'Master_delinquency'\n",
       "112. 'Master_status'\n",
       "113. 'Master_mfinanciacion_limite'\n",
       "114. 'Master_Fvencimiento'\n",
       "115. 'Master_Finiciomora'\n",
       "116. 'Master_msaldototal'\n",
       "117. 'Master_msaldopesos'\n",
       "118. 'Master_msaldodolares'\n",
       "119. 'Master_mconsumospesos'\n",
       "120. 'Master_mconsumosdolares'\n",
       "121. 'Master_mlimitecompra'\n",
       "122. 'Master_madelantopesos'\n",
       "123. 'Master_madelantodolares'\n",
       "124. 'Master_fultimo_cierre'\n",
       "125. 'Master_mpagado'\n",
       "126. 'Master_mpagospesos'\n",
       "127. 'Master_mpagosdolares'\n",
       "128. 'Master_fechaalta'\n",
       "129. 'Master_mconsumototal'\n",
       "130. 'Master_cconsumos'\n",
       "131. 'Master_cadelantosefectivo'\n",
       "132. 'Master_mpagominimo'\n",
       "133. 'Visa_delinquency'\n",
       "134. 'Visa_status'\n",
       "135. 'Visa_mfinanciacion_limite'\n",
       "136. 'Visa_Fvencimiento'\n",
       "137. 'Visa_Finiciomora'\n",
       "138. 'Visa_msaldototal'\n",
       "139. 'Visa_msaldopesos'\n",
       "140. 'Visa_msaldodolares'\n",
       "141. 'Visa_mconsumospesos'\n",
       "142. 'Visa_mconsumosdolares'\n",
       "143. 'Visa_mlimitecompra'\n",
       "144. 'Visa_madelantopesos'\n",
       "145. 'Visa_madelantodolares'\n",
       "146. 'Visa_fultimo_cierre'\n",
       "147. 'Visa_mpagado'\n",
       "148. 'Visa_mpagospesos'\n",
       "149. 'Visa_mpagosdolares'\n",
       "150. 'Visa_fechaalta'\n",
       "151. 'Visa_mconsumototal'\n",
       "152. 'Visa_cconsumos'\n",
       "153. 'Visa_cadelantosefectivo'\n",
       "154. 'Visa_mpagominimo'\n",
       "155. 'clase_ternaria'\n",
       "\n",
       "\n"
      ],
      "text/plain": [
       "  [1] \"numero_de_cliente\"                   \n",
       "  [2] \"foto_mes\"                            \n",
       "  [3] \"active_quarter\"                      \n",
       "  [4] \"cliente_vip\"                         \n",
       "  [5] \"internet\"                            \n",
       "  [6] \"cliente_edad\"                        \n",
       "  [7] \"cliente_antiguedad\"                  \n",
       "  [8] \"mrentabilidad\"                       \n",
       "  [9] \"mrentabilidad_annual\"                \n",
       " [10] \"mcomisiones\"                         \n",
       " [11] \"mactivos_margen\"                     \n",
       " [12] \"mpasivos_margen\"                     \n",
       " [13] \"cproductos\"                          \n",
       " [14] \"tcuentas\"                            \n",
       " [15] \"ccuenta_corriente\"                   \n",
       " [16] \"mcuenta_corriente_adicional\"         \n",
       " [17] \"mcuenta_corriente\"                   \n",
       " [18] \"ccaja_ahorro\"                        \n",
       " [19] \"mcaja_ahorro\"                        \n",
       " [20] \"mcaja_ahorro_adicional\"              \n",
       " [21] \"mcaja_ahorro_dolares\"                \n",
       " [22] \"cdescubierto_preacordado\"            \n",
       " [23] \"mcuentas_saldo\"                      \n",
       " [24] \"ctarjeta_debito\"                     \n",
       " [25] \"ctarjeta_debito_transacciones\"       \n",
       " [26] \"mautoservicio\"                       \n",
       " [27] \"ctarjeta_visa\"                       \n",
       " [28] \"ctarjeta_visa_transacciones\"         \n",
       " [29] \"mtarjeta_visa_consumo\"               \n",
       " [30] \"ctarjeta_master\"                     \n",
       " [31] \"ctarjeta_master_transacciones\"       \n",
       " [32] \"mtarjeta_master_consumo\"             \n",
       " [33] \"cprestamos_personales\"               \n",
       " [34] \"mprestamos_personales\"               \n",
       " [35] \"cprestamos_prendarios\"               \n",
       " [36] \"mprestamos_prendarios\"               \n",
       " [37] \"cprestamos_hipotecarios\"             \n",
       " [38] \"mprestamos_hipotecarios\"             \n",
       " [39] \"cplazo_fijo\"                         \n",
       " [40] \"mplazo_fijo_dolares\"                 \n",
       " [41] \"mplazo_fijo_pesos\"                   \n",
       " [42] \"cinversion1\"                         \n",
       " [43] \"minversion1_pesos\"                   \n",
       " [44] \"minversion1_dolares\"                 \n",
       " [45] \"cinversion2\"                         \n",
       " [46] \"minversion2\"                         \n",
       " [47] \"cseguro_vida\"                        \n",
       " [48] \"cseguro_auto\"                        \n",
       " [49] \"cseguro_vivienda\"                    \n",
       " [50] \"cseguro_accidentes_personales\"       \n",
       " [51] \"ccaja_seguridad\"                     \n",
       " [52] \"cpayroll_trx\"                        \n",
       " [53] \"mpayroll\"                            \n",
       " [54] \"mpayroll2\"                           \n",
       " [55] \"cpayroll2_trx\"                       \n",
       " [56] \"ccuenta_debitos_automaticos\"         \n",
       " [57] \"mcuenta_debitos_automaticos\"         \n",
       " [58] \"ctarjeta_visa_debitos_automaticos\"   \n",
       " [59] \"mttarjeta_visa_debitos_automaticos\"  \n",
       " [60] \"ctarjeta_master_debitos_automaticos\" \n",
       " [61] \"mttarjeta_master_debitos_automaticos\"\n",
       " [62] \"cpagodeservicios\"                    \n",
       " [63] \"mpagodeservicios\"                    \n",
       " [64] \"cpagomiscuentas\"                     \n",
       " [65] \"mpagomiscuentas\"                     \n",
       " [66] \"ccajeros_propios_descuentos\"         \n",
       " [67] \"mcajeros_propios_descuentos\"         \n",
       " [68] \"ctarjeta_visa_descuentos\"            \n",
       " [69] \"mtarjeta_visa_descuentos\"            \n",
       " [70] \"ctarjeta_master_descuentos\"          \n",
       " [71] \"mtarjeta_master_descuentos\"          \n",
       " [72] \"ccomisiones_mantenimiento\"           \n",
       " [73] \"mcomisiones_mantenimiento\"           \n",
       " [74] \"ccomisiones_otras\"                   \n",
       " [75] \"mcomisiones_otras\"                   \n",
       " [76] \"cforex\"                              \n",
       " [77] \"cforex_buy\"                          \n",
       " [78] \"mforex_buy\"                          \n",
       " [79] \"cforex_sell\"                         \n",
       " [80] \"mforex_sell\"                         \n",
       " [81] \"ctransferencias_recibidas\"           \n",
       " [82] \"mtransferencias_recibidas\"           \n",
       " [83] \"ctransferencias_emitidas\"            \n",
       " [84] \"mtransferencias_emitidas\"            \n",
       " [85] \"cextraccion_autoservicio\"            \n",
       " [86] \"mextraccion_autoservicio\"            \n",
       " [87] \"ccheques_depositados\"                \n",
       " [88] \"mcheques_depositados\"                \n",
       " [89] \"ccheques_emitidos\"                   \n",
       " [90] \"mcheques_emitidos\"                   \n",
       " [91] \"ccheques_depositados_rechazados\"     \n",
       " [92] \"mcheques_depositados_rechazados\"     \n",
       " [93] \"ccheques_emitidos_rechazados\"        \n",
       " [94] \"mcheques_emitidos_rechazados\"        \n",
       " [95] \"tcallcenter\"                         \n",
       " [96] \"ccallcenter_transacciones\"           \n",
       " [97] \"thomebanking\"                        \n",
       " [98] \"chomebanking_transacciones\"          \n",
       " [99] \"ccajas_transacciones\"                \n",
       "[100] \"ccajas_consultas\"                    \n",
       "[101] \"ccajas_depositos\"                    \n",
       "[102] \"ccajas_extracciones\"                 \n",
       "[103] \"ccajas_otras\"                        \n",
       "[104] \"catm_trx\"                            \n",
       "[105] \"matm\"                                \n",
       "[106] \"catm_trx_other\"                      \n",
       "[107] \"matm_other\"                          \n",
       "[108] \"ctrx_quarter\"                        \n",
       "[109] \"tmobile_app\"                         \n",
       "[110] \"cmobile_app_trx\"                     \n",
       "[111] \"Master_delinquency\"                  \n",
       "[112] \"Master_status\"                       \n",
       "[113] \"Master_mfinanciacion_limite\"         \n",
       "[114] \"Master_Fvencimiento\"                 \n",
       "[115] \"Master_Finiciomora\"                  \n",
       "[116] \"Master_msaldototal\"                  \n",
       "[117] \"Master_msaldopesos\"                  \n",
       "[118] \"Master_msaldodolares\"                \n",
       "[119] \"Master_mconsumospesos\"               \n",
       "[120] \"Master_mconsumosdolares\"             \n",
       "[121] \"Master_mlimitecompra\"                \n",
       "[122] \"Master_madelantopesos\"               \n",
       "[123] \"Master_madelantodolares\"             \n",
       "[124] \"Master_fultimo_cierre\"               \n",
       "[125] \"Master_mpagado\"                      \n",
       "[126] \"Master_mpagospesos\"                  \n",
       "[127] \"Master_mpagosdolares\"                \n",
       "[128] \"Master_fechaalta\"                    \n",
       "[129] \"Master_mconsumototal\"                \n",
       "[130] \"Master_cconsumos\"                    \n",
       "[131] \"Master_cadelantosefectivo\"           \n",
       "[132] \"Master_mpagominimo\"                  \n",
       "[133] \"Visa_delinquency\"                    \n",
       "[134] \"Visa_status\"                         \n",
       "[135] \"Visa_mfinanciacion_limite\"           \n",
       "[136] \"Visa_Fvencimiento\"                   \n",
       "[137] \"Visa_Finiciomora\"                    \n",
       "[138] \"Visa_msaldototal\"                    \n",
       "[139] \"Visa_msaldopesos\"                    \n",
       "[140] \"Visa_msaldodolares\"                  \n",
       "[141] \"Visa_mconsumospesos\"                 \n",
       "[142] \"Visa_mconsumosdolares\"               \n",
       "[143] \"Visa_mlimitecompra\"                  \n",
       "[144] \"Visa_madelantopesos\"                 \n",
       "[145] \"Visa_madelantodolares\"               \n",
       "[146] \"Visa_fultimo_cierre\"                 \n",
       "[147] \"Visa_mpagado\"                        \n",
       "[148] \"Visa_mpagospesos\"                    \n",
       "[149] \"Visa_mpagosdolares\"                  \n",
       "[150] \"Visa_fechaalta\"                      \n",
       "[151] \"Visa_mconsumototal\"                  \n",
       "[152] \"Visa_cconsumos\"                      \n",
       "[153] \"Visa_cadelantosefectivo\"             \n",
       "[154] \"Visa_mpagominimo\"                    \n",
       "[155] \"clase_ternaria\"                      "
      ]
     },
     "metadata": {},
     "output_type": "display_data"
    }
   ],
   "source": [
    "colnames( dataset )"
   ]
  },
  {
   "cell_type": "markdown",
   "metadata": {},
   "source": [
    "Exploración de clase_ternaria."
   ]
  },
  {
   "cell_type": "code",
   "execution_count": 13,
   "metadata": {},
   "outputs": [
    {
     "data": {
      "text/html": [
       "<table class=\"dataframe\">\n",
       "<caption>A data.table: 4 × 3</caption>\n",
       "<thead>\n",
       "\t<tr><th scope=col>foto_mes</th><th scope=col>clase_ternaria</th><th scope=col>N</th></tr>\n",
       "\t<tr><th scope=col>&lt;int&gt;</th><th scope=col>&lt;chr&gt;</th><th scope=col>&lt;int&gt;</th></tr>\n",
       "</thead>\n",
       "<tbody>\n",
       "\t<tr><td>202101</td><td>CONTINUA</td><td>159828</td></tr>\n",
       "\t<tr><td>202101</td><td>BAJA+1  </td><td>   664</td></tr>\n",
       "\t<tr><td>202101</td><td>BAJA+2  </td><td>   850</td></tr>\n",
       "\t<tr><td>202103</td><td>        </td><td>162900</td></tr>\n",
       "</tbody>\n",
       "</table>\n"
      ],
      "text/latex": [
       "A data.table: 4 × 3\n",
       "\\begin{tabular}{lll}\n",
       " foto\\_mes & clase\\_ternaria & N\\\\\n",
       " <int> & <chr> & <int>\\\\\n",
       "\\hline\n",
       "\t 202101 & CONTINUA & 159828\\\\\n",
       "\t 202101 & BAJA+1   &    664\\\\\n",
       "\t 202101 & BAJA+2   &    850\\\\\n",
       "\t 202103 &          & 162900\\\\\n",
       "\\end{tabular}\n"
      ],
      "text/markdown": [
       "\n",
       "A data.table: 4 × 3\n",
       "\n",
       "| foto_mes &lt;int&gt; | clase_ternaria &lt;chr&gt; | N &lt;int&gt; |\n",
       "|---|---|---|\n",
       "| 202101 | CONTINUA | 159828 |\n",
       "| 202101 | BAJA+1   |    664 |\n",
       "| 202101 | BAJA+2   |    850 |\n",
       "| 202103 | <!----> | 162900 |\n",
       "\n"
      ],
      "text/plain": [
       "  foto_mes clase_ternaria N     \n",
       "1 202101   CONTINUA       159828\n",
       "2 202101   BAJA+1            664\n",
       "3 202101   BAJA+2            850\n",
       "4 202103                  162900"
      ]
     },
     "metadata": {},
     "output_type": "display_data"
    }
   ],
   "source": [
    "dataset[  , .N, list( foto_mes, clase_ternaria) ]"
   ]
  },
  {
   "cell_type": "markdown",
   "metadata": {},
   "source": [
    "###  varias formas de contar los BAJA+2"
   ]
  },
  {
   "cell_type": "markdown",
   "metadata": {},
   "source": [
    "todas las formas dan el mismo resultado"
   ]
  },
  {
   "cell_type": "code",
   "execution_count": 14,
   "metadata": {},
   "outputs": [
    {
     "data": {
      "text/html": [
       "850"
      ],
      "text/latex": [
       "850"
      ],
      "text/markdown": [
       "850"
      ],
      "text/plain": [
       "[1] 850"
      ]
     },
     "metadata": {},
     "output_type": "display_data"
    }
   ],
   "source": [
    "nrow(  dataset[ clase_ternaria==\"BAJA+2\" ])"
   ]
  },
  {
   "cell_type": "code",
   "execution_count": 15,
   "metadata": {},
   "outputs": [
    {
     "data": {
      "text/html": [
       "850"
      ],
      "text/latex": [
       "850"
      ],
      "text/markdown": [
       "850"
      ],
      "text/plain": [
       "[1] 850"
      ]
     },
     "metadata": {},
     "output_type": "display_data"
    }
   ],
   "source": [
    "dataset[ clase_ternaria==\"BAJA+2\", .N ] #el autentico estilo data.table"
   ]
  },
  {
   "cell_type": "code",
   "execution_count": 16,
   "metadata": {},
   "outputs": [
    {
     "data": {
      "text/html": [
       "850"
      ],
      "text/latex": [
       "850"
      ],
      "text/markdown": [
       "850"
      ],
      "text/plain": [
       "[1] 850"
      ]
     },
     "metadata": {},
     "output_type": "display_data"
    }
   ],
   "source": [
    "dataset[  , sum(clase_ternaria==\"BAJA+2\")]"
   ]
  },
  {
   "cell_type": "markdown",
   "metadata": {},
   "source": [
    "### Conteo de proporcion de BAJA+2 en el dataset"
   ]
  },
  {
   "cell_type": "code",
   "execution_count": 17,
   "metadata": {},
   "outputs": [
    {
     "data": {
      "text/html": [
       "0.00526831203282468"
      ],
      "text/latex": [
       "0.00526831203282468"
      ],
      "text/markdown": [
       "0.00526831203282468"
      ],
      "text/plain": [
       "[1] 0.005268312"
      ]
     },
     "metadata": {},
     "output_type": "display_data"
    }
   ],
   "source": [
    "dataset[ foto_mes==202101  ,  sum(clase_ternaria==\"BAJA+2\")/.N]"
   ]
  },
  {
   "cell_type": "markdown",
   "metadata": {},
   "source": [
    "Conteo de la proporcion de BAJA+2 en un predicado"
   ]
  },
  {
   "cell_type": "code",
   "execution_count": 18,
   "metadata": {},
   "outputs": [
    {
     "data": {
      "text/html": [
       "0.0412081092263136"
      ],
      "text/latex": [
       "0.0412081092263136"
      ],
      "text/markdown": [
       "0.0412081092263136"
      ],
      "text/plain": [
       "[1] 0.04120811"
      ]
     },
     "metadata": {},
     "output_type": "display_data"
    }
   ],
   "source": [
    "dataset[ foto_mes==202101 & ctrx_quarter < 20  ,  sum(clase_ternaria==\"BAJA+2\")/.N]"
   ]
  },
  {
   "cell_type": "markdown",
   "metadata": {},
   "source": [
    "### Lift del predicado  ctrx_quarter  vs el universo"
   ]
  },
  {
   "cell_type": "markdown",
   "metadata": {},
   "source": [
    "forma brutal de calcularlo"
   ]
  },
  {
   "cell_type": "code",
   "execution_count": 19,
   "metadata": {},
   "outputs": [
    {
     "data": {
      "text/html": [
       "7.82188089269634"
      ],
      "text/latex": [
       "7.82188089269634"
      ],
      "text/markdown": [
       "7.82188089269634"
      ],
      "text/plain": [
       "[1] 7.821881"
      ]
     },
     "metadata": {},
     "output_type": "display_data"
    }
   ],
   "source": [
    "dataset[ foto_mes==202101 & ctrx_quarter < 20  ,  sum(clase_ternaria==\"BAJA+2\")/.N]  /dataset[ foto_mes==202101  ,  sum(clase_ternaria==\"BAJA+2\")/.N]"
   ]
  },
  {
   "cell_type": "markdown",
   "metadata": {},
   "source": [
    "### Ganancias del dataset"
   ]
  },
  {
   "cell_type": "markdown",
   "metadata": {},
   "source": [
    "Agregado de la columna ganancia al dataset"
   ]
  },
  {
   "cell_type": "markdown",
   "metadata": {},
   "source": [
    "Primero le asigno a TODOS los registros el valor de  -2000\n",
    "<br>\n",
    "la asignacion se hace con el  :="
   ]
  },
  {
   "cell_type": "code",
   "execution_count": 20,
   "metadata": {},
   "outputs": [],
   "source": [
    "dataset[ foto_mes==202101, ganancia := -2000]"
   ]
  },
  {
   "cell_type": "markdown",
   "metadata": {},
   "source": [
    "y finalmente a los  BAJA+2 les asigno 78000"
   ]
  },
  {
   "cell_type": "code",
   "execution_count": 21,
   "metadata": {},
   "outputs": [],
   "source": [
    "dataset[ foto_mes==202101 & clase_ternaria==\"BAJA+2\", ganancia := 78000]"
   ]
  },
  {
   "cell_type": "markdown",
   "metadata": {},
   "source": [
    "Calculo la ganancia que tendria una campaña en donde envío estímulo a TODOS los clientes"
   ]
  },
  {
   "cell_type": "code",
   "execution_count": 22,
   "metadata": {},
   "outputs": [
    {
     "data": {
      "text/html": [
       "-254684000"
      ],
      "text/latex": [
       "-254684000"
      ],
      "text/markdown": [
       "-254684000"
      ],
      "text/plain": [
       "[1] -254684000"
      ]
     },
     "metadata": {},
     "output_type": "display_data"
    }
   ],
   "source": [
    "dataset[ foto_mes==202101 , sum(ganancia)]"
   ]
  },
  {
   "cell_type": "markdown",
   "metadata": {},
   "source": [
    "Si le enviara estímulo a todos, se **pierden**  254 millones de pesos"
   ]
  },
  {
   "cell_type": "markdown",
   "metadata": {},
   "source": [
    "### Ganancias de predicados univariados"
   ]
  },
  {
   "cell_type": "markdown",
   "metadata": {},
   "source": [
    "Calculo la ganancia de un predicado simple\n",
    "ctrx_quarter < 20"
   ]
  },
  {
   "cell_type": "code",
   "execution_count": 23,
   "metadata": {},
   "outputs": [
    {
     "data": {
      "text/html": [
       "15670000"
      ],
      "text/latex": [
       "15670000"
      ],
      "text/markdown": [
       "15670000"
      ],
      "text/plain": [
       "[1] 15670000"
      ]
     },
     "metadata": {},
     "output_type": "display_data"
    }
   ],
   "source": [
    "dataset[ foto_mes==202101 & ctrx_quarter < 20,  sum( ganancia )  ]"
   ]
  },
  {
   "cell_type": "markdown",
   "metadata": {},
   "source": [
    "Ahora  la ganancia de  *ctrx_quarter < 4 *"
   ]
  },
  {
   "cell_type": "code",
   "execution_count": 24,
   "metadata": {},
   "outputs": [
    {
     "data": {
      "text/html": [
       "12588000"
      ],
      "text/latex": [
       "12588000"
      ],
      "text/markdown": [
       "12588000"
      ],
      "text/plain": [
       "[1] 12588000"
      ]
     },
     "metadata": {},
     "output_type": "display_data"
    }
   ],
   "source": [
    "dataset[ foto_mes==202101 & ctrx_quarter < 4,  sum( ganancia )  ]"
   ]
  },
  {
   "cell_type": "markdown",
   "metadata": {},
   "source": [
    "Ahora, en forma brutal e ineficiente, busco donde esta el mejor corte de  ctrx_quarter\n",
    "<br>\n",
    "Ya resolveremos esto en forma inteligente más adelante"
   ]
  },
  {
   "cell_type": "code",
   "execution_count": 33,
   "metadata": {},
   "outputs": [
    {
     "name": "stdout",
     "output_type": "stream",
     "text": [
      "0 0 \n",
      "1 9222000 \n",
      "2 10746000 \n",
      "3 10888000 \n",
      "4 12588000 \n",
      "5 13342000 \n",
      "6 1.4e+07 \n",
      "7 14512000 \n",
      "8 14640000 \n",
      "9 15038000 \n",
      "10 16220000 \n",
      "11 15740000 \n",
      "12 16002000 \n",
      "13 16286000 \n",
      "14 16720000 \n",
      "15 16486000 \n",
      "16 16056000 \n",
      "17 15700000 \n",
      "18 15778000 \n",
      "19 15630000 \n",
      "20 15670000 \n",
      "21 15048000 \n",
      "22 14466000 \n",
      "23 13866000 \n",
      "24 13672000 \n",
      "25 13252000 \n",
      "26 12698000 \n",
      "27 12036000 \n",
      "28 11388000 \n",
      "29 10288000 \n",
      "30 9678000 \n",
      "31 8660000 \n",
      "32 7680000 \n",
      "33 6430000 \n",
      "34 5546000 \n",
      "35 4496000 \n",
      "36 3426000 \n",
      "37 2488000 \n",
      "38 1582000 \n",
      "39 538000 \n",
      "40 -350000 \n",
      "41 -1266000 \n",
      "42 -2332000 \n",
      "43 -3446000 \n",
      "44 -4858000 \n",
      "45 -5744000 \n",
      "46 -6780000 \n",
      "47 -7816000 \n",
      "48 -9072000 \n",
      "49 -10270000 \n",
      "50 -11772000 \n",
      "[1] 14\n",
      "[1] 16720000\n"
     ]
    }
   ],
   "source": [
    "max_ganancia <- 0\n",
    "transaccion_maximiza_ganancia <- 0\n",
    "for(  transacciones  in   0:50)\n",
    "{\n",
    "    #max_ganancia <- max(max_ganancia, dataset[  foto_mes==202101 & ctrx_quarter < transacciones,  sum( ganancia ) ])\n",
    "    if (max_ganancia < dataset[  foto_mes==202101 & ctrx_quarter < transacciones,  sum( ganancia ) ]) {\n",
    "        max_ganancia <- dataset[  foto_mes==202101 & ctrx_quarter < transacciones,  sum( ganancia ) ]\n",
    "        transaccion_maximiza_ganancia <- transacciones\n",
    "    }\n",
    "    cat(  transacciones, dataset[  foto_mes==202101 & ctrx_quarter < transacciones,  sum( ganancia )  ] , \"\\n\")    \n",
    "}\n",
    "print(transaccion_maximiza_ganancia)\n",
    "print(max_ganancia)"
   ]
  },
  {
   "cell_type": "markdown",
   "metadata": {},
   "source": [
    "#### Observo que el predicado  ctrx_quarter < 14 tiene la máxima ganancia"
   ]
  },
  {
   "cell_type": "markdown",
   "metadata": {},
   "source": [
    "### Ganancias de predicado complejo"
   ]
  },
  {
   "cell_type": "code",
   "execution_count": 34,
   "metadata": {},
   "outputs": [
    {
     "data": {
      "text/html": [
       "17044000"
      ],
      "text/latex": [
       "17044000"
      ],
      "text/markdown": [
       "17044000"
      ],
      "text/plain": [
       "[1] 17044000"
      ]
     },
     "metadata": {},
     "output_type": "display_data"
    }
   ],
   "source": [
    "dataset[  foto_mes==202101 & ctrx_quarter < 20 & mpasivos_margen < 29.8 ,  sum( ganancia )  ]"
   ]
  },
  {
   "cell_type": "markdown",
   "metadata": {},
   "source": [
    "# Enhorabuena ! hemos alcanzado los 17 M de ganancia"
   ]
  },
  {
   "cell_type": "markdown",
   "metadata": {},
   "source": [
    "### gráficos de densidades"
   ]
  },
  {
   "cell_type": "markdown",
   "metadata": {},
   "source": [
    "Visualización de la densidad de una variable versus clase_ternaria"
   ]
  },
  {
   "cell_type": "code",
   "execution_count": 36,
   "metadata": {},
   "outputs": [
    {
     "name": "stderr",
     "output_type": "stream",
     "text": [
      "Installing package into ‘/home/tomas/R/x86_64-pc-linux-gnu-library/4.2’\n",
      "(as ‘lib’ is unspecified)\n",
      "\n",
      "also installing the dependencies ‘backports’, ‘proxy’, ‘lazyeval’, ‘png’, ‘jpeg’, ‘checkmate’, ‘e1071’, ‘wk’, ‘farver’, ‘labeling’, ‘viridisLite’, ‘rex’, ‘systemfonts’, ‘textshaping’, ‘generics’, ‘tidyselect’, ‘latticeExtra’, ‘gridExtra’, ‘htmlTable’, ‘viridis’, ‘deldir’, ‘RcppEigen’, ‘sp’, ‘mvtnorm’, ‘TH.data’, ‘sandwich’, ‘colorspace’, ‘SparseM’, ‘MatrixModels’, ‘classInt’, ‘DBI’, ‘s2’, ‘units’, ‘gtable’, ‘isoband’, ‘scales’, ‘covr’, ‘ragg’, ‘dplyr’, ‘ggplot2movies’, ‘hexbin’, ‘Hmisc’, ‘interp’, ‘mapproj’, ‘maps’, ‘maptools’, ‘multcomp’, ‘munsell’, ‘quantreg’, ‘RColorBrewer’, ‘rgeos’, ‘sf’, ‘svglite’, ‘vdiffr’\n",
      "\n",
      "\n",
      "Warning message in install.packages(\"ggplot2\", dependencies = TRUE):\n",
      "“installation of package ‘systemfonts’ had non-zero exit status”\n",
      "Warning message in install.packages(\"ggplot2\", dependencies = TRUE):\n",
      "“installation of package ‘units’ had non-zero exit status”\n",
      "Warning message in install.packages(\"ggplot2\", dependencies = TRUE):\n",
      "“installation of package ‘textshaping’ had non-zero exit status”\n",
      "Warning message in install.packages(\"ggplot2\", dependencies = TRUE):\n",
      "“installation of package ‘rgeos’ had non-zero exit status”\n",
      "Warning message in install.packages(\"ggplot2\", dependencies = TRUE):\n",
      "“installation of package ‘svglite’ had non-zero exit status”\n",
      "Warning message in install.packages(\"ggplot2\", dependencies = TRUE):\n",
      "“installation of package ‘ragg’ had non-zero exit status”\n",
      "Warning message in install.packages(\"ggplot2\", dependencies = TRUE):\n",
      "“installation of package ‘sf’ had non-zero exit status”\n"
     ]
    }
   ],
   "source": [
    "install.packages( \"ggplot2\", dependencies= TRUE )"
   ]
  },
  {
   "cell_type": "code",
   "execution_count": 37,
   "metadata": {},
   "outputs": [],
   "source": [
    "library(\"ggplot2\") #cargo la libreria ggplot2"
   ]
  },
  {
   "cell_type": "code",
   "execution_count": 38,
   "metadata": {},
   "outputs": [
    {
     "data": {
      "image/png": "[encoded data removed]",
      "text/plain": [
       "plot without title"
      ]
     },
     "metadata": {
      "image/png": {
       "height": 420,
       "width": 420
      }
     },
     "output_type": "display_data"
    }
   ],
   "source": [
    "campo <- \"cliente_antiguedad\" \n",
    "ggplot(dataset[ foto_mes==202101] , aes_string(x = campo)) + geom_density(trim=TRUE, na.rm=TRUE) + facet_grid( \"clase_ternaria~ .\")"
   ]
  },
  {
   "cell_type": "markdown",
   "metadata": {},
   "source": [
    "los gráficos salen muy pequeños, busco la documentacion https://blog.revolutionanalytics.com/2015/09/resizing-plots-in-the-r-kernel-for-jupyter-notebooks.html  y agrando los graficos"
   ]
  },
  {
   "cell_type": "code",
   "execution_count": 39,
   "metadata": {},
   "outputs": [],
   "source": [
    "options(repr.plot.width=15, repr.plot.height=15)"
   ]
  },
  {
   "cell_type": "code",
   "execution_count": 40,
   "metadata": {},
   "outputs": [
    {
     "data": {
      "image/png": "[encoded data removed]",
      "text/plain": [
       "plot without title"
      ]
     },
     "metadata": {
      "image/png": {
       "height": 900,
       "width": 900
      }
     },
     "output_type": "display_data"
    }
   ],
   "source": [
    "campo <- \"cliente_antiguedad\" \n",
    "ggplot(dataset[ foto_mes==202101], aes_string(x = campo)) + geom_density(trim=TRUE, na.rm=TRUE) + facet_grid( \"clase_ternaria~ .\")"
   ]
  }
 ],
 "metadata": {
  "kernelspec": {
   "display_name": "R",
   "language": "R",
   "name": "ir"
  },
  "language_info": {
   "codemirror_mode": "r",
   "file_extension": ".r",
   "mimetype": "text/x-r-source",
   "name": "R",
   "pygments_lexer": "r",
   "version": "4.2.1"
  }
 },
 "nbformat": 4,
 "nbformat_minor": 4
}
