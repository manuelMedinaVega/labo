{
 "cells": [
  {
   "cell_type": "markdown",
   "metadata": {},
   "source": [
    "# Zero to Hero"
   ]
  },
  {
   "cell_type": "markdown",
   "metadata": {},
   "source": [
    "## 1.08 Unos buenos hiperparametros"
   ]
  },
  {
   "cell_type": "markdown",
   "metadata": {},
   "source": [
    "Se aplicará el modelo generado por rpart a los datos nuevos y se genera la salida para Kaggle"
   ]
  },
  {
   "cell_type": "code",
   "execution_count": 1,
   "metadata": {
    "vscode": {
     "languageId": "r"
    }
   },
   "outputs": [
    {
     "data": {
      "text/html": [
       "<table class=\"dataframe\">\n",
       "<caption>A matrix: 2 × 6 of type dbl</caption>\n",
       "<thead>\n",
       "\t<tr><th></th><th scope=col>used</th><th scope=col>(Mb)</th><th scope=col>gc trigger</th><th scope=col>(Mb)</th><th scope=col>max used</th><th scope=col>(Mb)</th></tr>\n",
       "</thead>\n",
       "<tbody>\n",
       "\t<tr><th scope=row>Ncells</th><td> 604167</td><td>32.3</td><td>1291145</td><td>69</td><td>1291145</td><td>69.0</td></tr>\n",
       "\t<tr><th scope=row>Vcells</th><td>1086273</td><td> 8.3</td><td>8388608</td><td>64</td><td>1632192</td><td>12.5</td></tr>\n",
       "</tbody>\n",
       "</table>\n"
      ],
      "text/latex": [
       "A matrix: 2 × 6 of type dbl\n",
       "\\begin{tabular}{r|llllll}\n",
       "  & used & (Mb) & gc trigger & (Mb) & max used & (Mb)\\\\\n",
       "\\hline\n",
       "\tNcells &  604167 & 32.3 & 1291145 & 69 & 1291145 & 69.0\\\\\n",
       "\tVcells & 1086273 &  8.3 & 8388608 & 64 & 1632192 & 12.5\\\\\n",
       "\\end{tabular}\n"
      ],
      "text/markdown": [
       "\n",
       "A matrix: 2 × 6 of type dbl\n",
       "\n",
       "| <!--/--> | used | (Mb) | gc trigger | (Mb) | max used | (Mb) |\n",
       "|---|---|---|---|---|---|---|\n",
       "| Ncells |  604167 | 32.3 | 1291145 | 69 | 1291145 | 69.0 |\n",
       "| Vcells | 1086273 |  8.3 | 8388608 | 64 | 1632192 | 12.5 |\n",
       "\n"
      ],
      "text/plain": [
       "       used    (Mb) gc trigger (Mb) max used (Mb)\n",
       "Ncells  604167 32.3 1291145    69   1291145  69.0\n",
       "Vcells 1086273  8.3 8388608    64   1632192  12.5"
      ]
     },
     "metadata": {},
     "output_type": "display_data"
    }
   ],
   "source": [
    "rm( list=ls())\n",
    "gc()\n",
    "\n",
    "library( \"data.table\")   #cargo la libreria  data.table\n",
    "library( \"rpart\")  #cargo la libreria  rpart\n",
    "library( \"rpart.plot\")\n",
    "\n",
    "options(repr.plot.width=20, repr.plot.height=10) \n",
    "setwd(\"C:\\\\Users\\\\programadorweb4\\\\Documents\\\\m_d_m\\\\dmef\")  #Aqui se debe poner la ruta de la PC local"
   ]
  },
  {
   "cell_type": "code",
   "execution_count": 2,
   "metadata": {
    "vscode": {
     "languageId": "r"
    }
   },
   "outputs": [],
   "source": [
    "dataset <- fread(\"./datasets/competencia1_2022.csv\")   #cargo el dataset #cargo el dataset\n",
    "dtrain <- dataset[ foto_mes==202101 ]\n",
    "dapply <- dataset[ foto_mes==202103 ]"
   ]
  },
  {
   "cell_type": "code",
   "execution_count": 9,
   "metadata": {
    "vscode": {
     "languageId": "r"
    }
   },
   "outputs": [
    {
     "data": {
      "text/html": [
       "<table class=\"dataframe\">\n",
       "<caption>A data.table: 6 × 155</caption>\n",
       "<thead>\n",
       "\t<tr><th scope=col>numero_de_cliente</th><th scope=col>foto_mes</th><th scope=col>active_quarter</th><th scope=col>cliente_vip</th><th scope=col>internet</th><th scope=col>cliente_edad</th><th scope=col>cliente_antiguedad</th><th scope=col>mrentabilidad</th><th scope=col>mrentabilidad_annual</th><th scope=col>mcomisiones</th><th scope=col>⋯</th><th scope=col>Visa_fultimo_cierre</th><th scope=col>Visa_mpagado</th><th scope=col>Visa_mpagospesos</th><th scope=col>Visa_mpagosdolares</th><th scope=col>Visa_fechaalta</th><th scope=col>Visa_mconsumototal</th><th scope=col>Visa_cconsumos</th><th scope=col>Visa_cadelantosefectivo</th><th scope=col>Visa_mpagominimo</th><th scope=col>clase_ternaria</th></tr>\n",
       "\t<tr><th scope=col>&lt;int&gt;</th><th scope=col>&lt;int&gt;</th><th scope=col>&lt;int&gt;</th><th scope=col>&lt;int&gt;</th><th scope=col>&lt;int&gt;</th><th scope=col>&lt;int&gt;</th><th scope=col>&lt;int&gt;</th><th scope=col>&lt;dbl&gt;</th><th scope=col>&lt;dbl&gt;</th><th scope=col>&lt;dbl&gt;</th><th scope=col>⋯</th><th scope=col>&lt;int&gt;</th><th scope=col>&lt;dbl&gt;</th><th scope=col>&lt;dbl&gt;</th><th scope=col>&lt;dbl&gt;</th><th scope=col>&lt;int&gt;</th><th scope=col>&lt;dbl&gt;</th><th scope=col>&lt;int&gt;</th><th scope=col>&lt;int&gt;</th><th scope=col>&lt;dbl&gt;</th><th scope=col>&lt;chr&gt;</th></tr>\n",
       "</thead>\n",
       "<tbody>\n",
       "\t<tr><td>31115668</td><td>202103</td><td>1</td><td>0</td><td>0</td><td>56</td><td>134</td><td>  688.41</td><td> 26701.84</td><td>   98.82</td><td>⋯</td><td> 1</td><td> 0</td><td>-16247.77</td><td> 0</td><td>4056</td><td>15732.34</td><td> 1</td><td> 0</td><td> 1137.81</td><td></td></tr>\n",
       "\t<tr><td>31115678</td><td>202103</td><td>1</td><td>0</td><td>0</td><td>48</td><td>102</td><td>   78.43</td><td> 24418.75</td><td>  -73.62</td><td>⋯</td><td>NA</td><td>NA</td><td>       NA</td><td>NA</td><td>  NA</td><td>      NA</td><td>NA</td><td>NA</td><td>      NA</td><td></td></tr>\n",
       "\t<tr><td>31117415</td><td>202103</td><td>1</td><td>0</td><td>0</td><td>60</td><td> 55</td><td> 8101.55</td><td>  3162.23</td><td>13399.50</td><td>⋯</td><td> 1</td><td> 0</td><td>-31103.23</td><td> 0</td><td>1632</td><td> 2860.54</td><td> 2</td><td> 0</td><td>19858.89</td><td></td></tr>\n",
       "\t<tr><td>31117711</td><td>202103</td><td>1</td><td>0</td><td>0</td><td>46</td><td>275</td><td>14825.78</td><td>138050.05</td><td> 1146.27</td><td>⋯</td><td> 1</td><td> 0</td><td>-13733.44</td><td> 0</td><td>2122</td><td> 1419.36</td><td> 3</td><td> 0</td><td> 1231.65</td><td></td></tr>\n",
       "\t<tr><td>31118145</td><td>202103</td><td>1</td><td>0</td><td>0</td><td>47</td><td>194</td><td> 2015.61</td><td> 31240.49</td><td> 1791.25</td><td>⋯</td><td> 1</td><td> 0</td><td>     0.00</td><td> 0</td><td>5901</td><td> 1286.93</td><td> 1</td><td> 0</td><td>   82.11</td><td></td></tr>\n",
       "\t<tr><td>31118204</td><td>202103</td><td>1</td><td>0</td><td>0</td><td>68</td><td>260</td><td>14424.33</td><td> 71750.45</td><td> 3694.07</td><td>⋯</td><td> 1</td><td> 0</td><td>-55168.01</td><td> 0</td><td>3180</td><td>35363.16</td><td>18</td><td> 0</td><td> 5114.28</td><td></td></tr>\n",
       "</tbody>\n",
       "</table>\n"
      ],
      "text/latex": [
       "A data.table: 6 × 155\n",
       "\\begin{tabular}{lllllllllllllllllllll}\n",
       " numero\\_de\\_cliente & foto\\_mes & active\\_quarter & cliente\\_vip & internet & cliente\\_edad & cliente\\_antiguedad & mrentabilidad & mrentabilidad\\_annual & mcomisiones & ⋯ & Visa\\_fultimo\\_cierre & Visa\\_mpagado & Visa\\_mpagospesos & Visa\\_mpagosdolares & Visa\\_fechaalta & Visa\\_mconsumototal & Visa\\_cconsumos & Visa\\_cadelantosefectivo & Visa\\_mpagominimo & clase\\_ternaria\\\\\n",
       " <int> & <int> & <int> & <int> & <int> & <int> & <int> & <dbl> & <dbl> & <dbl> & ⋯ & <int> & <dbl> & <dbl> & <dbl> & <int> & <dbl> & <int> & <int> & <dbl> & <chr>\\\\\n",
       "\\hline\n",
       "\t 31115668 & 202103 & 1 & 0 & 0 & 56 & 134 &   688.41 &  26701.84 &    98.82 & ⋯ &  1 &  0 & -16247.77 &  0 & 4056 & 15732.34 &  1 &  0 &  1137.81 & \\\\\n",
       "\t 31115678 & 202103 & 1 & 0 & 0 & 48 & 102 &    78.43 &  24418.75 &   -73.62 & ⋯ & NA & NA &        NA & NA &   NA &       NA & NA & NA &       NA & \\\\\n",
       "\t 31117415 & 202103 & 1 & 0 & 0 & 60 &  55 &  8101.55 &   3162.23 & 13399.50 & ⋯ &  1 &  0 & -31103.23 &  0 & 1632 &  2860.54 &  2 &  0 & 19858.89 & \\\\\n",
       "\t 31117711 & 202103 & 1 & 0 & 0 & 46 & 275 & 14825.78 & 138050.05 &  1146.27 & ⋯ &  1 &  0 & -13733.44 &  0 & 2122 &  1419.36 &  3 &  0 &  1231.65 & \\\\\n",
       "\t 31118145 & 202103 & 1 & 0 & 0 & 47 & 194 &  2015.61 &  31240.49 &  1791.25 & ⋯ &  1 &  0 &      0.00 &  0 & 5901 &  1286.93 &  1 &  0 &    82.11 & \\\\\n",
       "\t 31118204 & 202103 & 1 & 0 & 0 & 68 & 260 & 14424.33 &  71750.45 &  3694.07 & ⋯ &  1 &  0 & -55168.01 &  0 & 3180 & 35363.16 & 18 &  0 &  5114.28 & \\\\\n",
       "\\end{tabular}\n"
      ],
      "text/markdown": [
       "\n",
       "A data.table: 6 × 155\n",
       "\n",
       "| numero_de_cliente &lt;int&gt; | foto_mes &lt;int&gt; | active_quarter &lt;int&gt; | cliente_vip &lt;int&gt; | internet &lt;int&gt; | cliente_edad &lt;int&gt; | cliente_antiguedad &lt;int&gt; | mrentabilidad &lt;dbl&gt; | mrentabilidad_annual &lt;dbl&gt; | mcomisiones &lt;dbl&gt; | ⋯ ⋯ | Visa_fultimo_cierre &lt;int&gt; | Visa_mpagado &lt;dbl&gt; | Visa_mpagospesos &lt;dbl&gt; | Visa_mpagosdolares &lt;dbl&gt; | Visa_fechaalta &lt;int&gt; | Visa_mconsumototal &lt;dbl&gt; | Visa_cconsumos &lt;int&gt; | Visa_cadelantosefectivo &lt;int&gt; | Visa_mpagominimo &lt;dbl&gt; | clase_ternaria &lt;chr&gt; |\n",
       "|---|---|---|---|---|---|---|---|---|---|---|---|---|---|---|---|---|---|---|---|---|\n",
       "| 31115668 | 202103 | 1 | 0 | 0 | 56 | 134 |   688.41 |  26701.84 |    98.82 | ⋯ |  1 |  0 | -16247.77 |  0 | 4056 | 15732.34 |  1 |  0 |  1137.81 | <!----> |\n",
       "| 31115678 | 202103 | 1 | 0 | 0 | 48 | 102 |    78.43 |  24418.75 |   -73.62 | ⋯ | NA | NA |        NA | NA |   NA |       NA | NA | NA |       NA | <!----> |\n",
       "| 31117415 | 202103 | 1 | 0 | 0 | 60 |  55 |  8101.55 |   3162.23 | 13399.50 | ⋯ |  1 |  0 | -31103.23 |  0 | 1632 |  2860.54 |  2 |  0 | 19858.89 | <!----> |\n",
       "| 31117711 | 202103 | 1 | 0 | 0 | 46 | 275 | 14825.78 | 138050.05 |  1146.27 | ⋯ |  1 |  0 | -13733.44 |  0 | 2122 |  1419.36 |  3 |  0 |  1231.65 | <!----> |\n",
       "| 31118145 | 202103 | 1 | 0 | 0 | 47 | 194 |  2015.61 |  31240.49 |  1791.25 | ⋯ |  1 |  0 |      0.00 |  0 | 5901 |  1286.93 |  1 |  0 |    82.11 | <!----> |\n",
       "| 31118204 | 202103 | 1 | 0 | 0 | 68 | 260 | 14424.33 |  71750.45 |  3694.07 | ⋯ |  1 |  0 | -55168.01 |  0 | 3180 | 35363.16 | 18 |  0 |  5114.28 | <!----> |\n",
       "\n"
      ],
      "text/plain": [
       "  numero_de_cliente foto_mes active_quarter cliente_vip internet cliente_edad\n",
       "1 31115668          202103   1              0           0        56          \n",
       "2 31115678          202103   1              0           0        48          \n",
       "3 31117415          202103   1              0           0        60          \n",
       "4 31117711          202103   1              0           0        46          \n",
       "5 31118145          202103   1              0           0        47          \n",
       "6 31118204          202103   1              0           0        68          \n",
       "  cliente_antiguedad mrentabilidad mrentabilidad_annual mcomisiones ⋯\n",
       "1 134                  688.41       26701.84               98.82    ⋯\n",
       "2 102                   78.43       24418.75              -73.62    ⋯\n",
       "3  55                 8101.55        3162.23            13399.50    ⋯\n",
       "4 275                14825.78      138050.05             1146.27    ⋯\n",
       "5 194                 2015.61       31240.49             1791.25    ⋯\n",
       "6 260                14424.33       71750.45             3694.07    ⋯\n",
       "  Visa_fultimo_cierre Visa_mpagado Visa_mpagospesos Visa_mpagosdolares\n",
       "1  1                   0           -16247.77         0                \n",
       "2 NA                  NA                  NA        NA                \n",
       "3  1                   0           -31103.23         0                \n",
       "4  1                   0           -13733.44         0                \n",
       "5  1                   0                0.00         0                \n",
       "6  1                   0           -55168.01         0                \n",
       "  Visa_fechaalta Visa_mconsumototal Visa_cconsumos Visa_cadelantosefectivo\n",
       "1 4056           15732.34            1              0                     \n",
       "2   NA                 NA           NA             NA                     \n",
       "3 1632            2860.54            2              0                     \n",
       "4 2122            1419.36            3              0                     \n",
       "5 5901            1286.93            1              0                     \n",
       "6 3180           35363.16           18              0                     \n",
       "  Visa_mpagominimo clase_ternaria\n",
       "1  1137.81                       \n",
       "2       NA                       \n",
       "3 19858.89                       \n",
       "4  1231.65                       \n",
       "5    82.11                       \n",
       "6  5114.28                       "
      ]
     },
     "metadata": {},
     "output_type": "display_data"
    }
   ],
   "source": [
    "head(dapply)"
   ]
  },
  {
   "cell_type": "markdown",
   "metadata": {},
   "source": [
    "defino unos parametros interesantes\n",
    "<br>\n",
    "los hiperparametros van en una lista\n",
    "<br>\n",
    "notar la forma en que esos parametros se pasan a la funcion rpart"
   ]
  },
  {
   "cell_type": "code",
   "execution_count": 3,
   "metadata": {
    "vscode": {
     "languageId": "r"
    }
   },
   "outputs": [],
   "source": [
    "param  <- list(\"cp\"= -0.5,\n",
    "               \"minsplit\"=  900,\n",
    "               \"minbucket\"= 440,\n",
    "               \"maxdepth\"= 5\n",
    "              )"
   ]
  },
  {
   "cell_type": "code",
   "execution_count": 4,
   "metadata": {
    "vscode": {
     "languageId": "r"
    }
   },
   "outputs": [],
   "source": [
    "#genero el modelo\n",
    "modelo <-  rpart::rpart(formula= \"clase_ternaria ~ .\" ,\n",
    "                        data= dtrain,\n",
    "                        xval= 0,\n",
    "                        control= param)"
   ]
  },
  {
   "cell_type": "markdown",
   "metadata": {},
   "source": [
    "Aplico el modelo a los datos dapply  pidiendo que me devuelva probabildades"
   ]
  },
  {
   "cell_type": "code",
   "execution_count": 5,
   "metadata": {
    "vscode": {
     "languageId": "r"
    }
   },
   "outputs": [],
   "source": [
    "prediccion  <- predict( modelo, dapply, type = \"prob\")"
   ]
  },
  {
   "cell_type": "markdown",
   "metadata": {},
   "source": [
    "Genero la salida"
   ]
  },
  {
   "cell_type": "code",
   "execution_count": null,
   "metadata": {
    "vscode": {
     "languageId": "r"
    }
   },
   "outputs": [],
   "source": [
    "prob_baja2  <- prediccion[, \"BAJA+2\"]\n",
    "Predicted   <- ifelse( prob_baja2 > 0.025, 1, 0 )  # 0.025 es la probabilidad de corte\n",
    "\n",
    "entrega  <-  as.data.table( list( \"numero_de_cliente\"=dapply$numero_de_cliente, \"Predicted\"=Predicted)  )\n",
    "\n",
    "#creo la carpeta donde va el experimento\n",
    "dir.create( \"./exp/\",  showWarnings = FALSE ) \n",
    "dir.create( \"./exp/ZH2018/\", showWarnings = FALSE )\n",
    "\n",
    "#genero el archivo para Kaggle\n",
    "fwrite( entrega, \n",
    "        file= \"./exp/ZH2018/para_Kaggle_0108.csv\",\n",
    "        sep=  \",\" )"
   ]
  },
  {
   "cell_type": "markdown",
   "metadata": {},
   "source": [
    "¿Cuánto le da la ganancia en el Public Leaderboard?"
   ]
  }
 ],
 "metadata": {
  "kernelspec": {
   "display_name": "R",
   "language": "R",
   "name": "ir"
  },
  "language_info": {
   "codemirror_mode": "r",
   "file_extension": ".r",
   "mimetype": "text/x-r-source",
   "name": "R",
   "pygments_lexer": "r",
   "version": "4.2.1"
  }
 },
 "nbformat": 4,
 "nbformat_minor": 4
}
