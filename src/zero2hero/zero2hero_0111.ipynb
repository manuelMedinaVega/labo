{
 "cells": [
  {
   "cell_type": "markdown",
   "metadata": {},
   "source": [
    "# Zero to Hero"
   ]
  },
  {
   "cell_type": "markdown",
   "metadata": {},
   "source": [
    "## 1.11 Arbol training/testing"
   ]
  },
  {
   "cell_type": "markdown",
   "metadata": {},
   "source": [
    "El objetivo es calcular la ganancia en testing de un arbol de decision"
   ]
  },
  {
   "cell_type": "code",
   "execution_count": 1,
   "metadata": {},
   "outputs": [
    {
     "data": {
      "text/html": [
       "<table class=\"dataframe\">\n",
       "<caption>A matrix: 2 × 6 of type dbl</caption>\n",
       "<thead>\n",
       "\t<tr><th></th><th scope=col>used</th><th scope=col>(Mb)</th><th scope=col>gc trigger</th><th scope=col>(Mb)</th><th scope=col>max used</th><th scope=col>(Mb)</th></tr>\n",
       "</thead>\n",
       "<tbody>\n",
       "\t<tr><th scope=row>Ncells</th><td> 612261</td><td>32.7</td><td>1327444</td><td>70.9</td><td>1164655</td><td>62.2</td></tr>\n",
       "\t<tr><th scope=row>Vcells</th><td>1146082</td><td> 8.8</td><td>8388608</td><td>64.0</td><td>1801044</td><td>13.8</td></tr>\n",
       "</tbody>\n",
       "</table>\n"
      ],
      "text/latex": [
       "A matrix: 2 × 6 of type dbl\n",
       "\\begin{tabular}{r|llllll}\n",
       "  & used & (Mb) & gc trigger & (Mb) & max used & (Mb)\\\\\n",
       "\\hline\n",
       "\tNcells &  612261 & 32.7 & 1327444 & 70.9 & 1164655 & 62.2\\\\\n",
       "\tVcells & 1146082 &  8.8 & 8388608 & 64.0 & 1801044 & 13.8\\\\\n",
       "\\end{tabular}\n"
      ],
      "text/markdown": [
       "\n",
       "A matrix: 2 × 6 of type dbl\n",
       "\n",
       "| <!--/--> | used | (Mb) | gc trigger | (Mb) | max used | (Mb) |\n",
       "|---|---|---|---|---|---|---|\n",
       "| Ncells |  612261 | 32.7 | 1327444 | 70.9 | 1164655 | 62.2 |\n",
       "| Vcells | 1146082 |  8.8 | 8388608 | 64.0 | 1801044 | 13.8 |\n",
       "\n"
      ],
      "text/plain": [
       "       used    (Mb) gc trigger (Mb) max used (Mb)\n",
       "Ncells  612261 32.7 1327444    70.9 1164655  62.2\n",
       "Vcells 1146082  8.8 8388608    64.0 1801044  13.8"
      ]
     },
     "metadata": {},
     "output_type": "display_data"
    },
    {
     "name": "stderr",
     "output_type": "stream",
     "text": [
      "Loading required package: ggplot2\n",
      "\n",
      "Loading required package: lattice\n",
      "\n"
     ]
    }
   ],
   "source": [
    "rm( list=ls())\n",
    "gc()\n",
    "\n",
    "library( \"data.table\")   #cargo la libreria  data.table\n",
    "library( \"rpart\")  #cargo la libreria  rpart\n",
    "library( \"rpart.plot\")\n",
    "library( \"caret\")\n",
    "\n",
    "options(repr.plot.width=20, repr.plot.height=10) \n",
    "setwd(\"/home/tomas/workspace/uba/dmeyf\")  #Aqui se debe poner la ruta de la PC local"
   ]
  },
  {
   "cell_type": "code",
   "execution_count": 2,
   "metadata": {},
   "outputs": [],
   "source": [
    "dataset <- fread(\"./datasets/competencia1_2022.csv\")   #cargo el dataset #cargo el dataset\n",
    "dataset <- dataset[ foto_mes==202101 ]  # me quedo solo con el periodo 202101"
   ]
  },
  {
   "cell_type": "code",
   "execution_count": 3,
   "metadata": {},
   "outputs": [],
   "source": [
    "#creo training con 70%  y testing con 30%\n",
    "set.seed(13)\n",
    "train_rows <- createDataPartition(dataset$clase_ternaria, p= 0.70,list= FALSE)\n",
    "dtrain  <- dataset[ train_rows]\n",
    "dtest  <-  dataset[ -train_rows]"
   ]
  },
  {
   "cell_type": "markdown",
   "metadata": {},
   "source": [
    "Entreno el modelo en los datos de training"
   ]
  },
  {
   "cell_type": "code",
   "execution_count": 4,
   "metadata": {},
   "outputs": [],
   "source": [
    "param  <- list(\"cp\"= -0.5,\n",
    "               \"minsplit\"=  900,\n",
    "               \"minbucket\"= 440,\n",
    "               \"maxdepth\"= 5\n",
    "              )"
   ]
  },
  {
   "cell_type": "markdown",
   "metadata": {},
   "source": [
    "Entreno el modelo en los datos de training"
   ]
  },
  {
   "cell_type": "code",
   "execution_count": 5,
   "metadata": {},
   "outputs": [],
   "source": [
    "#genero el modelo\n",
    "modelo <-  rpart::rpart(formula= \"clase_ternaria ~ .\" ,\n",
    "                        data= dtrain,\n",
    "                        xval= 0,\n",
    "                        control= param)"
   ]
  },
  {
   "cell_type": "markdown",
   "metadata": {},
   "source": [
    "aplico el modelo a los datos de testing"
   ]
  },
  {
   "cell_type": "code",
   "execution_count": 6,
   "metadata": {},
   "outputs": [],
   "source": [
    "prediccion  <- predict( modelo, dtest, type = \"prob\")"
   ]
  },
  {
   "cell_type": "markdown",
   "metadata": {},
   "source": [
    "### Calculo la ganancia del modelo en los datos de testing"
   ]
  },
  {
   "cell_type": "markdown",
   "metadata": {},
   "source": [
    "a partir de la prediccion, calculo la probabilidad de BAJA+2 de cada registro de testing  **dtest**"
   ]
  },
  {
   "cell_type": "code",
   "execution_count": 7,
   "metadata": {},
   "outputs": [],
   "source": [
    "prob_baja2  <- prediccion[, \"BAJA+2\"]"
   ]
  },
  {
   "cell_type": "markdown",
   "metadata": {},
   "source": [
    "Para el cálculo de la ganancia del modelo aplicado a testing debo tener en cuenta lo siguiente\n",
    "* Solo envio estimulo a los registros que el modelo asigno una probabilidad mayor a 0.025\n",
    "* Si no envio estimulo, no gano ni pierdo, es decir la ganacia es cero\n",
    "* Si el registro al que envio el estímulo es un **BAJA+2**  entonces la ganancia es de +78000\n",
    "* Si el registro al que envio el estímulo es un **BAJA+1**  entonces la ganancia es de  -2000\n",
    "* Si el registro al que envio el estímulo es un **CONTINUA** entonces la ganancia es de  -2000"
   ]
  },
  {
   "cell_type": "markdown",
   "metadata": {},
   "source": [
    "##### A la condición que solo envio a los registros con probabilidad mayor a 1/60 la resuelvo con la condicion lógica  (prob_baja2> 0.025)\n",
    "<br>\n",
    "Esta condicion termina siendo un 0 o un 1\n",
    "<br>\n",
    "vale 1 si y solo si se cumple la condicion, es decir  si prob_baja2 es mayor a 0.025"
   ]
  },
  {
   "cell_type": "markdown",
   "metadata": {},
   "source": [
    "### La ganancia de +78000 o -2000 la resuelvo de esta forma ifelse( clase_ternaria==\"BAJA+2\", 78000, -2000)"
   ]
  },
  {
   "cell_type": "markdown",
   "metadata": {},
   "source": [
    "Finalmente,  que se cumplan ambas condiciones al mismo tiempo, en este caso, es multiplicarlas, o sea\n",
    "<br>\n",
    "(prob_baja2> 0.025) * ifelse( clase_ternaria==\"BAJA+2\", 78000, -2000)\n",
    "<br>\n",
    "La condicion anterior toma los siguientes valores"
   ]
  },
  {
   "cell_type": "markdown",
   "metadata": {},
   "source": [
    "| prob(BAJA+2) | clase_ternaria | ganancia |\n",
    "| --- | :---: | ---: |\n",
    "| menor o igual a 0.025 | BAJA+1 | 0 |\n",
    "| menor o igual a 0.025 | CONTINUA | 0 |\n",
    "| menor o igual a 0.025 | BAJA+2 | 0 |\n",
    "| mayor a 0.025 | BAJA+1 | -2000 |\n",
    "| mayor a 0.025 | CONTINUA | -2000 |\n",
    "| mayor a 0.025 | BAJA+2 | 78000 |\n"
   ]
  },
  {
   "cell_type": "markdown",
   "metadata": {},
   "source": [
    "Finalmente hago el calculo en data.table"
   ]
  },
  {
   "cell_type": "code",
   "execution_count": 8,
   "metadata": {},
   "outputs": [],
   "source": [
    "ganancia_testing <- dtest[ , sum(  (prob_baja2>0.025) * ifelse( clase_ternaria==\"BAJA+2\", 78000, -2000) )]"
   ]
  },
  {
   "cell_type": "code",
   "execution_count": 9,
   "metadata": {},
   "outputs": [
    {
     "data": {
      "text/html": [
       "4618000"
      ],
      "text/latex": [
       "4618000"
      ],
      "text/markdown": [
       "4618000"
      ],
      "text/plain": [
       "[1] 4618000"
      ]
     },
     "metadata": {},
     "output_type": "display_data"
    }
   ],
   "source": [
    "ganancia_testing"
   ]
  },
  {
   "cell_type": "markdown",
   "metadata": {},
   "source": [
    "Es importante que la ganancia esta calculada sobre los datos de testing, que en este caso son apenas el 30%\n",
    "<br>\n",
    "Si quiero extrapolar a todo el dataset, debo hacer el **cociente** de esa ganancia por 0.30   ( coloquialmente, debo dividir por 0.30 )"
   ]
  },
  {
   "cell_type": "code",
   "execution_count": 10,
   "metadata": {},
   "outputs": [],
   "source": [
    "ganancia_testing_normalizada  <-  ganancia_testing/0.3"
   ]
  },
  {
   "cell_type": "code",
   "execution_count": 11,
   "metadata": {},
   "outputs": [
    {
     "data": {
      "text/html": [
       "15393333.3333333"
      ],
      "text/latex": [
       "15393333.3333333"
      ],
      "text/markdown": [
       "15393333.3333333"
      ],
      "text/plain": [
       "[1] 15393333"
      ]
     },
     "metadata": {},
     "output_type": "display_data"
    }
   ],
   "source": [
    "ganancia_testing_normalizada"
   ]
  },
  {
   "cell_type": "markdown",
   "metadata": {},
   "source": [
    "## Para subir a Kaggle"
   ]
  },
  {
   "cell_type": "code",
   "execution_count": 19,
   "metadata": {},
   "outputs": [],
   "source": [
    "dataset <- fread(\"./datasets/competencia1_2022.csv\")\n",
    "dapply <- dataset[ foto_mes==202103 ]\n",
    "prediccion_apply  <- predict( modelo, dapply, type = \"prob\")"
   ]
  },
  {
   "cell_type": "code",
   "execution_count": 20,
   "metadata": {},
   "outputs": [],
   "source": [
    "prob_baja3  <- prediccion_apply[, \"BAJA+2\"]\n",
    "Predicted   <- ifelse( prob_baja3 > 0.025, 1, 0 )  # 0.025 es la probabilidad de corte\n",
    "\n",
    "entrega  <-  as.data.table( list( \"numero_de_cliente\"=dapply$numero_de_cliente, \"Predicted\"=Predicted)  )\n",
    "\n",
    "#creo la carpeta donde va el experimento\n",
    "dir.create( \"./exp/\",  showWarnings = FALSE ) \n",
    "dir.create( \"./exp/ZH2111/\", showWarnings = FALSE )\n",
    "\n",
    "#genero el archivo para Kaggle\n",
    "fwrite( entrega, \n",
    "        file= \"./exp/ZH2111/para_Kaggle_0111.csv\",\n",
    "        sep=  \",\" )"
   ]
  },
  {
   "cell_type": "code",
   "execution_count": 21,
   "metadata": {},
   "outputs": [
    {
     "name": "stderr",
     "output_type": "stream",
     "text": [
      "Warning message in (prob_baja3 > 0.025) * ifelse(clase_ternaria == \"BAJA+2\", 78000, :\n",
      "“longer object length is not a multiple of shorter object length”\n"
     ]
    },
    {
     "data": {
      "text/html": [
       "-11862000"
      ],
      "text/latex": [
       "-11862000"
      ],
      "text/markdown": [
       "-11862000"
      ],
      "text/plain": [
       "[1] -11862000"
      ]
     },
     "metadata": {},
     "output_type": "display_data"
    }
   ],
   "source": [
    "ganancia_apply <- dtest[ , sum(  (prob_baja3>0.025) * ifelse( clase_ternaria==\"BAJA+2\", 78000, -2000) )]\n",
    "ganancia_apply"
   ]
  }
 ],
 "metadata": {
  "kernelspec": {
   "display_name": "R",
   "language": "R",
   "name": "ir"
  },
  "language_info": {
   "codemirror_mode": "r",
   "file_extension": ".r",
   "mimetype": "text/x-r-source",
   "name": "R",
   "pygments_lexer": "r",
   "version": "4.2.1"
  }
 },
 "nbformat": 4,
 "nbformat_minor": 4
}
